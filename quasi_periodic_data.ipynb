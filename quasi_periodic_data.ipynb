{
 "cells": [
  {
   "cell_type": "code",
   "execution_count": 62,
   "id": "8e64637d",
   "metadata": {},
   "outputs": [],
   "source": [
    "import numpy as np\n",
    "import os\n",
    "import wfdb\n",
    "from sklearn.preprocessing import LabelEncoder\n",
    "label_encoder = LabelEncoder()\n",
    "\n",
    "gait_dataset_path = 'E:/database/gait-in-neurodegenerative-disease-database-1.0.0'\n",
    "gait_filenames = [\n",
    "    f'{gait_dataset_path}\\\\{name}'\n",
    "    for name in sorted(set(el.split('.')[0] for el in os.listdir(gait_dataset_path) if el.endswith('.hea')))\n",
    "]\n",
    "gait_data, gait_labels = [], []\n",
    "for filename in gait_filenames:\n",
    "    ar, meta = wfdb.rdsamp(filename)\n",
    "    gait_data.append(ar)\n",
    "    label = filename.split('\\\\')[-1]\n",
    "    for i in range(len(label)):\n",
    "        if label[i].isnumeric():\n",
    "            label = label[:i]\n",
    "            break\n",
    "    gait_labels.append(label)\n",
    "gait_data = np.stack(gait_data)[:, 20*300:]\n",
    "gait_labels = label_encoder.fit_transform(gait_labels)"
   ]
  },
  {
   "cell_type": "code",
   "execution_count": 64,
   "id": "7cb7a7cd",
   "metadata": {},
   "outputs": [],
   "source": [
    "import numpy as np\n",
    "from scipy.spatial import distance_matrix\n",
    "from tqdm import tqdm\n",
    "\n",
    "def get_weights(pts, exp=1):\n",
    "    n_pts = len(pts)\n",
    "    A = np.exp(-distance_matrix(pts, pts))\n",
    "    b = np.ones(n_pts)\n",
    "    w = np.linalg.lstsq(A, b, rcond=None)[0]\n",
    "    return w.reshape(-1, 1)\n",
    "\n",
    "def signals_to_curves(signals, dim=5, stride=2):\n",
    "    # last dimension = channels\n",
    "    if isinstance(signals, np.ndarray):\n",
    "        size = signals.shape[-2]\n",
    "        result = np.concatenate([signals[..., i*stride:size-(dim-i-1)*stride, :] for i in range(dim)], axis=-1)\n",
    "        return result\n",
    "    elif isinstance(signals, list):\n",
    "        return [signals_to_curves(signal, dim, stride) for signal in signals]\n",
    "    else:\n",
    "        raise ValueError\n",
    "\n",
    "def weights_from_pclouds(pclouds, exp=0):\n",
    "    if exp == 0:\n",
    "        return [np.ones((pcloud.shape[0], 1)) / pcloud.shape[0] \n",
    "                for pcloud in tqdm(pclouds, total=len(pclouds), desc='weight computation', miniters=100)]\n",
    "    else:\n",
    "        return [get_weights(pcloud, exp) \n",
    "                for pcloud in tqdm(pclouds, total=len(pclouds), desc='weight computation', miniters=100)]"
   ]
  },
  {
   "cell_type": "code",
   "execution_count": 90,
   "id": "88e4a7c0",
   "metadata": {},
   "outputs": [],
   "source": [
    "rng = np.random.default_rng(42)\n",
    "# test_mask = np.full_like(gait_labels, False, dtype='bool')\n",
    "# for i in range(4):\n",
    "#     for idx in rng.choice(np.where(gait_labels == i)[0], np.sum(gait_labels == i) // 5):\n",
    "#         test_mask[idx] = True\n",
    "\n",
    "sig_len = 84000\n",
    "seg_len = 500\n",
    "gait_data_cut = gait_data.reshape(-1, seg_len, 2)\n",
    "gait_labels_cut = np.tile(gait_labels.reshape(-1, 1), (1, sig_len//seg_len)).ravel()\n",
    "# test_mask_cut = np.tile(test_mask.reshape(-1, 1), (1, sig_len//seg_len)).ravel()\n",
    "test_mask = np.zeros((gait_data.shape[0], sig_len//seg_len), dtype=np.int32)\n",
    "test_mask[:, int(0.8*test_mask.shape[1]):] = 1\n",
    "test_mask_cut = test_mask.ravel().astype(bool)\n",
    "\n",
    "mask_notna = ~np.isnan(gait_data_cut).any(axis=(1,2))\n",
    "gait_data_cut, gait_labels_cut = gait_data_cut[mask_notna], gait_labels_cut[mask_notna]\n",
    "test_mask_cut = test_mask_cut[mask_notna]"
   ]
  },
  {
   "cell_type": "code",
   "execution_count": 68,
   "id": "3cc013e3",
   "metadata": {},
   "outputs": [
    {
     "name": "stderr",
     "output_type": "stream",
     "text": [
      "weight computation: 100%|████████████████████████████████████████████████████████| 10583/10583 [14:37<00:00, 12.06it/s]\n",
      "weight computation: 100%|████████████████████████████████████████████████████| 10583/10583 [00:00<00:00, 220961.63it/s]\n"
     ]
    }
   ],
   "source": [
    "pclouds = signals_to_curves(gait_data_cut, 3, 20)\n",
    "weights = weights_from_pclouds(pclouds, 1.)\n",
    "weights_unif = weights_from_pclouds(pclouds, 0)\n",
    "# embedded = embedding_pclouds(pclouds, weights)\n",
    "# embedded_unif = embedding_pclouds(pclouds, weights_unif)"
   ]
  },
  {
   "cell_type": "code",
   "execution_count": 184,
   "id": "b6272ac3",
   "metadata": {},
   "outputs": [],
   "source": [
    "import tensorflow as tf\n",
    "from tensorflow import keras\n",
    "\n",
    "class MyLayer(keras.layers.Layer):\n",
    "    def __init__(self, dim, n_filters=20):\n",
    "        super(MyLayer, self).__init__()\n",
    "        self.forward = keras.Sequential([\n",
    "            keras.layers.Dense(\n",
    "                units=64,\n",
    "                activation='elu'\n",
    "            ),\n",
    "            keras.layers.BatchNormalization(),\n",
    "            keras.layers.Dense(\n",
    "                units=64,\n",
    "                activation='elu'\n",
    "            ),\n",
    "            keras.layers.BatchNormalization(),\n",
    "            keras.layers.Dense(\n",
    "                units=64,\n",
    "                activation='elu'\n",
    "            ),\n",
    "            keras.layers.BatchNormalization(),\n",
    "            keras.layers.Dense(\n",
    "                units=n_filters\n",
    "            ),\n",
    "        ])\n",
    "        \n",
    "    def call(self, inputs, *args, **kwargs):\n",
    "        pclouds, weights = inputs\n",
    "        filtered = self.forward(pclouds)\n",
    "        features = tf.math.reduce_sum(filtered * weights, axis=1)\n",
    "        return features\n",
    "    \n",
    "# X1 = tf.ragged.constant(pclouds, ragged_rank=1, inner_shape=(6, ))\n",
    "# X2 = tf.ragged.constant(weights, ragged_rank=1, inner_shape=(1, ))\n",
    "# X_train = [tf.ragged.boolean_mask(X1, ~test_mask_cut), tf.ragged.boolean_mask(X2, ~test_mask_cut)]\n",
    "# X_test = [tf.ragged.boolean_mask(X1, test_mask_cut), tf.ragged.boolean_mask(X2, test_mask_cut)]\n",
    "X_train = [np.stack(pclouds)[~test_mask_cut], np.stack(weights)[~test_mask_cut]]\n",
    "X_test = [np.stack(pclouds)[test_mask_cut], np.stack(weights)[test_mask_cut]]\n",
    "y_train, y_test = gait_labels_cut[~test_mask_cut], gait_labels_cut[test_mask_cut]"
   ]
  },
  {
   "cell_type": "code",
   "execution_count": 185,
   "id": "6548c8c4",
   "metadata": {},
   "outputs": [
    {
     "data": {
      "text/plain": [
       "PCA()"
      ]
     },
     "execution_count": 185,
     "metadata": {},
     "output_type": "execute_result"
    }
   ],
   "source": [
    "from sklearn.decomposition import PCA\n",
    "\n",
    "my_layer = MyLayer(dim=6, n_filters=32)\n",
    "tmp = my_layer(X_train).numpy()\n",
    "\n",
    "pca = PCA()\n",
    "pca.fit(tmp)"
   ]
  },
  {
   "cell_type": "code",
   "execution_count": 186,
   "id": "69f2d911",
   "metadata": {},
   "outputs": [
    {
     "data": {
      "text/plain": [
       "array([74.8764  , 91.713524, 98.67934 , 99.40631 , 99.70205 , 99.81928 ,\n",
       "       99.881165, 99.92934 , 99.95198 , 99.96991 , 99.976425, 99.98284 ,\n",
       "       99.987404, 99.9901  , 99.9923  , 99.993935, 99.995255, 99.99641 ,\n",
       "       99.997406, 99.99811 , 99.99851 , 99.99887 , 99.99917 , 99.99936 ,\n",
       "       99.99953 , 99.99966 , 99.99976 , 99.99983 , 99.99991 , 99.99995 ,\n",
       "       99.99998 , 99.999985], dtype=float32)"
      ]
     },
     "execution_count": 186,
     "metadata": {},
     "output_type": "execute_result"
    }
   ],
   "source": [
    "np.cumsum(pca.explained_variance_ratio_) * 100"
   ]
  },
  {
   "cell_type": "code",
   "execution_count": 177,
   "id": "33a21d8b",
   "metadata": {
    "scrolled": true
   },
   "outputs": [
    {
     "name": "stdout",
     "output_type": "stream",
     "text": [
      "Epoch 1/5\n",
      "9/9 [==============================] - 4s 349ms/step - loss: 1.3859 - accuracy: 0.4047\n",
      "Epoch 2/5\n",
      "9/9 [==============================] - 3s 348ms/step - loss: 1.0937 - accuracy: 0.4944\n",
      "Epoch 3/5\n",
      "9/9 [==============================] - 3s 346ms/step - loss: 0.9713 - accuracy: 0.5167\n",
      "Epoch 4/5\n",
      "9/9 [==============================] - 3s 357ms/step - loss: 0.9201 - accuracy: 0.5799\n",
      "Epoch 5/5\n",
      "9/9 [==============================] - 3s 369ms/step - loss: 0.8765 - accuracy: 0.6083\n",
      "67/67 [==============================] - 0s 3ms/step - loss: 3.1970 - accuracy: 0.2583\n"
     ]
    },
    {
     "data": {
      "text/plain": [
       "[3.197028875350952, 0.258321613073349]"
      ]
     },
     "execution_count": 177,
     "metadata": {},
     "output_type": "execute_result"
    }
   ],
   "source": [
    "keras.backend.clear_session()\n",
    "tf.random.set_seed(42)\n",
    "\n",
    "inputs_p = keras.Input(shape=(460, 6))\n",
    "inputs_w = keras.Input(shape=(460, 1))\n",
    "inputs = [inputs_p, inputs_w]\n",
    "my_layer = MyLayer(dim=6, n_filters=32)\n",
    "features = my_layer(inputs)\n",
    "outputs = features\n",
    "outputs = keras.Sequential([\n",
    "    keras.layers.BatchNormalization(),\n",
    "    keras.layers.Dense(\n",
    "        units=4,\n",
    "        activation='softmax'\n",
    "    )\n",
    "])(outputs)\n",
    "model = keras.Model(inputs=inputs, outputs=outputs)\n",
    "\n",
    "model.compile(\n",
    "    loss='sparse_categorical_crossentropy',\n",
    "    optimizer=keras.optimizers.Adam(5e-2),\n",
    "    metrics=['accuracy']\n",
    ")\n",
    "model.fit(\n",
    "    X_train, y_train,\n",
    "    epochs=5,\n",
    "    batch_size=1 << 10,\n",
    ")\n",
    "model.evaluate(X_test, y_test)"
   ]
  },
  {
   "cell_type": "code",
   "execution_count": 199,
   "id": "a06be049",
   "metadata": {},
   "outputs": [
    {
     "data": {
      "image/png": "[encoded data removed]",
      "text/plain": [
       "<Figure size 576x576 with 1 Axes>"
      ]
     },
     "metadata": {
      "needs_background": "light"
     },
     "output_type": "display_data"
    }
   ],
   "source": [
    "from sklearn.manifold import TSNE\n",
    "tsne = TSNE(n_components=2)\n",
    "X_tsne = tsne.fit_transform(X_train)\n",
    "plt.figure(figsize=(8, 8))\n",
    "for i in range(4):\n",
    "    plt.scatter(*X_tsne[y_train==i].T)\n",
    "plt.show(); plt.close();"
   ]
  },
  {
   "cell_type": "code",
   "execution_count": 174,
   "id": "557821bc",
   "metadata": {},
   "outputs": [
    {
     "data": {
      "text/plain": [
       "<matplotlib.collections.PathCollection at 0x1c53cf50d00>"
      ]
     },
     "execution_count": 174,
     "metadata": {},
     "output_type": "execute_result"
    },
    {
     "data": {
      "image/png": "[encoded data removed]",
      "text/plain": [
       "<Figure size 432x288 with 1 Axes>"
      ]
     },
     "metadata": {
      "needs_background": "light"
     },
     "output_type": "display_data"
    }
   ],
   "source": [
    "idx = 1000\n",
    "plt.scatter(gait_data_cut[idx, 20:, 0], gait_data_cut[idx, :-20, 0])"
   ]
  },
  {
   "cell_type": "code",
   "execution_count": null,
   "id": "a66a1aeb",
   "metadata": {},
   "outputs": [],
   "source": []
  }
 ],
 "metadata": {
  "kernelspec": {
   "display_name": "Python 3 (ipykernel)",
   "language": "python",
   "name": "python3"
  },
  "language_info": {
   "codemirror_mode": {
    "name": "ipython",
    "version": 3
   },
   "file_extension": ".py",
   "mimetype": "text/x-python",
   "name": "python",
   "nbconvert_exporter": "python",
   "pygments_lexer": "ipython3",
   "version": "3.8.6"
  }
 },
 "nbformat": 4,
 "nbformat_minor": 5
}
