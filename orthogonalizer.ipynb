{
 "cells": [
  {
   "cell_type": "code",
   "execution_count": 2,
   "id": "f8ac0c36",
   "metadata": {},
   "outputs": [],
   "source": [
    "import tensorflow as tf\n",
    "from tensorflow import keras\n",
    "import numpy as np"
   ]
  },
  {
   "cell_type": "code",
   "execution_count": 56,
   "id": "3e694a84",
   "metadata": {},
   "outputs": [],
   "source": [
    "rng = np.random.default_rng(42)\n",
    "M = 100\n",
    "N = 30\n",
    "\n",
    "# X = np.ones((M, 1))\n",
    "# y = np.zeros((N, ))\n",
    "\n",
    "keras.backend.clear_session()\n",
    "\n",
    "v = tf.Variable(\n",
    "    initial_value=2*rng.random((M, N))-1,\n",
    "    trainable=True,\n",
    "    dtype=tf.float32\n",
    ")\n",
    "lr = 3e-1\n",
    "for epoch in range(300):\n",
    "    if (epoch + 1) % 50 == 0:\n",
    "        lr *= 0.5\n",
    "    with tf.GradientTape() as g:\n",
    "        s = tf.linalg.svd(v, compute_uv=False)\n",
    "        loss = tf.linalg.norm(s - 1)\n",
    "        v.assign_sub(lr * g.gradient(loss, v))"
   ]
  },
  {
   "cell_type": "code",
   "execution_count": 57,
   "id": "14f00e3b",
   "metadata": {},
   "outputs": [
    {
     "data": {
      "text/plain": [
       "<tf.Tensor: shape=(30,), dtype=float32, numpy=\n",
       "array([0.99983984, 0.99979085, 0.9997668 , 0.99975693, 0.99973416,\n",
       "       0.99973416, 0.9997132 , 0.9996984 , 0.9996584 , 0.9996399 ,\n",
       "       0.9996351 , 0.99961644, 0.99960136, 0.99959266, 0.99958766,\n",
       "       0.9995782 , 0.99955744, 0.9995368 , 0.9995119 , 0.9994962 ,\n",
       "       0.99947476, 0.99946207, 0.9994523 , 0.99942887, 0.99942255,\n",
       "       0.99940103, 0.99936837, 0.9993468 , 0.99930155, 0.99926955],\n",
       "      dtype=float32)>"
      ]
     },
     "execution_count": 57,
     "metadata": {},
     "output_type": "execute_result"
    }
   ],
   "source": [
    "tf.linalg.svd(v, compute_uv=False)"
   ]
  },
  {
   "cell_type": "code",
   "execution_count": 99,
   "id": "24efe20e",
   "metadata": {},
   "outputs": [
    {
     "data": {
      "image/png": "[encoded data removed]",
      "text/plain": [
       "<Figure size 432x288 with 1 Axes>"
      ]
     },
     "metadata": {
      "needs_background": "light"
     },
     "output_type": "display_data"
    }
   ],
   "source": [
    "rng = np.random.default_rng(42)\n",
    "\n",
    "N = 200\n",
    "t = (2*rng.random((N, ))-1)*2.3\n",
    "X = np.stack([t, np.sin(t)], axis=1) + 0.3*(2*rng.random((N, 2))-1)\n",
    "y = np.zeros((2, ))\n",
    "plt.scatter(*X.T)\n",
    "plt.show(); plt.close();"
   ]
  },
  {
   "cell_type": "code",
   "execution_count": 174,
   "id": "3316ccb6",
   "metadata": {},
   "outputs": [],
   "source": [
    "keras.backend.clear_session()\n",
    "rng = np.random.default_rng(42)\n",
    "ws = [\n",
    "    tf.Variable(\n",
    "        initial_value=2*rng.random((2, 32))-1,\n",
    "        trainable=True,\n",
    "        dtype=tf.float32\n",
    "    ),\n",
    "    tf.Variable(\n",
    "        initial_value=2*rng.random((32, 32))-1,\n",
    "        trainable=True,\n",
    "        dtype=tf.float32\n",
    "    ),\n",
    "    tf.Variable(\n",
    "        initial_value=2*rng.random((32, 2))-1,\n",
    "        trainable=True,\n",
    "        dtype=tf.float32\n",
    "    )\n",
    "]\n",
    "lr = 3e-2\n",
    "for epoch in range(500):\n",
    "    with tf.GradientTape() as g:\n",
    "        X_sub = rng.choice(X, rng.integers(N//2, 3*N//4))\n",
    "        outputs = tf.nn.elu(tf.nn.elu(X_sub @ ws[0]) @ ws[1]) @ ws[2]\n",
    "        outputs = tf.linalg.svd(outputs, compute_uv=False)\n",
    "        outputs = tf.linalg.norm(outputs - 1)\n",
    "        dws = g.gradient(outputs, ws)\n",
    "    for w, dw in zip(ws, dws):\n",
    "        w.assign_sub( lr * dw)"
   ]
  },
  {
   "cell_type": "code",
   "execution_count": 175,
   "id": "b4f90a0f",
   "metadata": {},
   "outputs": [
    {
     "name": "stdout",
     "output_type": "stream",
     "text": [
      "[1.2907832 0.3639773]\n"
     ]
    },
    {
     "data": {
      "image/png": "[encoded data removed]",
      "text/plain": [
       "<Figure size 432x288 with 1 Axes>"
      ]
     },
     "metadata": {
      "needs_background": "light"
     },
     "output_type": "display_data"
    }
   ],
   "source": [
    "fs = (tf.nn.elu(tf.nn.elu(X @ ws[0]) @ ws[1]) @ ws[2]).numpy()\n",
    "print(np.linalg.svd(fs)[1])\n",
    "plt.scatter(*fs.T)\n",
    "plt.show(); plt.close();"
   ]
  }
 ],
 "metadata": {
  "kernelspec": {
   "display_name": "Python 3 (ipykernel)",
   "language": "python",
   "name": "python3"
  },
  "language_info": {
   "codemirror_mode": {
    "name": "ipython",
    "version": 3
   },
   "file_extension": ".py",
   "mimetype": "text/x-python",
   "name": "python",
   "nbconvert_exporter": "python",
   "pygments_lexer": "ipython3",
   "version": "3.8.6"
  }
 },
 "nbformat": 4,
 "nbformat_minor": 5
}
