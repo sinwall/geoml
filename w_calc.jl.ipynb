{
 "cells": [
  {
   "cell_type": "code",
   "execution_count": 95,
   "metadata": {},
   "outputs": [],
   "source": [
    "using CSV, DataFrames, Dierckx\n",
    "using LinearAlgebra"
   ]
  },
  {
   "cell_type": "code",
   "execution_count": 103,
   "metadata": {},
   "outputs": [
    {
     "data": {
      "text/plain": [
       "tensordot (generic function with 1 method)"
      ]
     },
     "metadata": {},
     "output_type": "display_data"
    }
   ],
   "source": [
    "function tensordot(a, b; indices=nothing)\n",
    "    if isnothing(indices)\n",
    "        indices = [[], []]\n",
    "    end\n",
    "    idxs_a = indices[1]; idxs_b = indices[2]\n",
    "    for (i, j) in zip(idxs_a, idxs_b)\n",
    "        if size(a)[i] != size(b)[j]\n",
    "            error(\"ValueError\")\n",
    "        end\n",
    "    end\n",
    "    size_a_out = [size(a, i) for i in 1:ndims(a) if !(i in idxs_a)]\n",
    "    size_b_out = [size(b, i) for i in 1:ndims(b) if !(i in idxs_b)]\n",
    "    c = zeros(size_a_out..., size_b_out...)\n",
    "    indexer_a = [1:n for n in size(a)]\n",
    "    indexer_b = [1:n for n in size(b)]\n",
    "    for cursor in Iterators.product(map(i -> 1:size(a, i), idxs_a)...)\n",
    "        for (i, j, k) in zip(idxs_a, idxs_b, cursor)\n",
    "            indexer_a[i] = k:k; indexer_b[j] = k:k\n",
    "        end\n",
    "        slice_a = reshape(a[indexer_a...], tuple(size_a_out..., (1 for _ in 1:(ndims(b) - length(idxs_b)))...))\n",
    "        slice_b = reshape(b[indexer_b...], tuple((1 for _ in 1:(ndims(a) - length(idxs_a)))..., size_b_out...))\n",
    "        c .+= slice_a .* slice_b\n",
    "    end\n",
    "    return c\n",
    "end"
   ]
  },
  {
   "cell_type": "code",
   "execution_count": 128,
   "metadata": {},
   "outputs": [
    {
     "data": {
      "text/plain": [
       "compute_weights (generic function with 1 method)"
      ]
     },
     "metadata": {},
     "output_type": "display_data"
    }
   ],
   "source": [
    "function preprocess(df; gap_max=1.0, seg_dur=5.0, ol_rate=0.5, resamp_gap=0.01)\n",
    "    users = sort(unique(df[!, \"user\"]))\n",
    "    activities = sort(unique(df[!, \"activity\"]))\n",
    "    \n",
    "    segments = []\n",
    "    seg_usrs = []\n",
    "    seg_acts = []\n",
    "\n",
    "    for (user, activity) in Iterators.product(users, activities)\n",
    "        mask_ua = (df[!, \"user\"] .== user) .& (df[!, \"activity\"] .== activity)\n",
    "        if !any(mask_ua)\n",
    "            continue\n",
    "        end\n",
    "        cpnt_nums = cumsum(.!(0 .<= diff(df[mask_ua, \"timestamp\"]) .<= gap_max))\n",
    "        cpnt_nums = [0; cpnt_nums]\n",
    "        for num in minimum(cpnt_nums):maximum(cpnt_nums)\n",
    "            cpnt = df[mask_ua, :][cpnt_nums .== num, :]\n",
    "            cpnt[!, \"timestamp\"] .-= minimum(cpnt[!, \"timestamp\"])\n",
    "            if maximum(cpnt[!, \"timestamp\"]) < seg_dur\n",
    "                continue\n",
    "            end\n",
    "            spls = [\n",
    "                Spline1D(cpnt[!, \"timestamp\"], cpnt[!, axis])\n",
    "                for axis in [\"ax\", \"ay\", \"az\"]\n",
    "            ]\n",
    "            for i in 0:(maximum(cpnt[!, \"timestamp\"])-seg_dur)/(seg_dur*(1-ol_rate))-1e-9\n",
    "                t = (0:resamp_gap:seg_dur) .+ i*seg_dur*(1-ol_rate)\n",
    "                itped = stack([evaluate(spl, t) for spl in spls], dims=2)\n",
    "                push!(segments, itped)\n",
    "                push!(seg_usrs, user)\n",
    "                push!(seg_acts, activity)\n",
    "            end\n",
    "        end\n",
    "    end\n",
    "    segments = stack(segments, dims=1)[:, 1:end-1, :]\n",
    "    return segments, seg_usrs, seg_acts\n",
    "end\n",
    "\n",
    "function embed(X; dim=2, lag=1, reduce=1, dim_raw=nothing, channel_last=false)\n",
    "    if isnothing(dim_raw)\n",
    "        dim_raw = dim + reduce\n",
    "    end\n",
    "    A = stack(vcat([ones(dim_raw)], [range(0, 1, dim_raw) .^ i for i in 1:(reduce-1)]))\n",
    "    proj, = svd(A, full=true)\n",
    "    proj = proj[:, 1+reduce:end]\n",
    "\n",
    "    time_dim = channel_last ? 2 : 1\n",
    "    len = size(X)[end-time_dim+1]\n",
    "    indexers = []\n",
    "    for i in 1:dim_raw\n",
    "        indexer = [Base.UnitRange(el) for el in axes(X)]\n",
    "        indexer[end-time_dim+1] = (1+(i-1)*lag):(len-(dim_raw-i)*lag)\n",
    "        push!(indexers, indexer)\n",
    "    end\n",
    "    result = stack([X[indexer...] for indexer in indexers], dims=ndims(X))\n",
    "    \n",
    "    result = tensordot(result, proj, indices=[[ndims(result)], [1]])\n",
    "    if channel_last\n",
    "        result = reshape(result, (size(result)[1:end-2]..., prod(size(result)[end-1:end])))\n",
    "    end\n",
    "    return result\n",
    "end\n",
    "\n",
    "function compute_weights(x; unit=1, method=nothing)\n",
    "    y = x'\n",
    "    y = Array(reshape(x', tuple(1, size(y)...)))\n",
    "    A = exp.(-sum((x .- y).^2, dims=2).^0.5 ./ unit)[:, 1, :]\n",
    "    b = ones(size(x)[1])\n",
    "    w = A \\ b\n",
    "    return w\n",
    "end"
   ]
  },
  {
   "cell_type": "code",
   "execution_count": 96,
   "metadata": {},
   "outputs": [],
   "source": [
    "df = CSV.read(\n",
    "    \"E:/database/WISDM_ar_v1.1/WISDM_ar_v1.1_raw_modified.txt\", \n",
    "    DataFrame, \n",
    "    header=[\"user\", \"activity\", \"timestamp\", \"ax\", \"ay\", \"az\"]\n",
    ");\n",
    "df[!, \"timestamp\"] .*= 1e-9;\n",
    "df = df[df[!, \"timestamp\"] .!= 0, :];\n",
    "df = df[.!nonunique(df[!, [\"timestamp\"]]), :];\n",
    "df = df[all.(eachrow(.!ismissing.(df))), :];"
   ]
  },
  {
   "cell_type": "code",
   "execution_count": 97,
   "metadata": {},
   "outputs": [],
   "source": [
    "segments, seg_usrs, seg_acts = preprocess(df, seg_dur=2);"
   ]
  },
  {
   "cell_type": "code",
   "execution_count": 116,
   "metadata": {},
   "outputs": [],
   "source": [
    "embedded = embed(segments, channel_last=true);"
   ]
  },
  {
   "cell_type": "code",
   "execution_count": 130,
   "metadata": {},
   "outputs": [],
   "source": [
    "for i in 1:size(embedded, 1)\n",
    "    if i % 1000 == 0\n",
    "        print(i)\n",
    "    end\n",
    "    compute_weights(embedded[i, :, :]);\n",
    "end"
   ]
  }
 ],
 "metadata": {
  "kernelspec": {
   "display_name": "Julia 1.8.3",
   "language": "julia",
   "name": "julia-1.8"
  },
  "language_info": {
   "file_extension": ".jl",
   "mimetype": "application/julia",
   "name": "julia",
   "version": "1.8.3"
  },
  "orig_nbformat": 4,
  "vscode": {
   "interpreter": {
    "hash": "78ba7276ca7520b75e078490fe8903ecbd27a619a51829001806ed27188ed733"
   }
  }
 },
 "nbformat": 4,
 "nbformat_minor": 2
}
